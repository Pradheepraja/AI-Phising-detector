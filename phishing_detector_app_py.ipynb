{
  "nbformat": 4,
  "nbformat_minor": 0,
  "metadata": {
    "colab": {
      "provenance": [],
      "authorship_tag": "ABX9TyNq5fj8jkzcMuXU+6OqHDDY",
      "include_colab_link": true
    },
    "kernelspec": {
      "name": "python3",
      "display_name": "Python 3"
    },
    "language_info": {
      "name": "python"
    }
  },
  "cells": [
    {
      "cell_type": "markdown",
      "metadata": {
        "id": "view-in-github",
        "colab_type": "text"
      },
      "source": [
        "<a href=\"https://colab.research.google.com/github/Pradheepraja/AI-Phising-detector/blob/main/phishing_detector_app_py.ipynb\" target=\"_parent\"><img src=\"https://colab.research.google.com/assets/colab-badge.svg\" alt=\"Open In Colab\"/></a>"
      ]
    },
    {
      "cell_type": "code",
      "execution_count": 7,
      "metadata": {
        "colab": {
          "base_uri": "https://localhost:8080/"
        },
        "id": "vvJ0hyk7Rrhi",
        "outputId": "4881a973-a078-4d04-f33a-d84c806e939d"
      },
      "outputs": [
        {
          "output_type": "stream",
          "name": "stdout",
          "text": [
            "Requirement already satisfied: scikit-learn in /usr/local/lib/python3.11/dist-packages (1.6.1)\n",
            "Requirement already satisfied: pandas in /usr/local/lib/python3.11/dist-packages (2.2.2)\n",
            "Requirement already satisfied: numpy in /usr/local/lib/python3.11/dist-packages (2.0.2)\n",
            "Requirement already satisfied: scipy>=1.6.0 in /usr/local/lib/python3.11/dist-packages (from scikit-learn) (1.14.1)\n",
            "Requirement already satisfied: joblib>=1.2.0 in /usr/local/lib/python3.11/dist-packages (from scikit-learn) (1.4.2)\n",
            "Requirement already satisfied: threadpoolctl>=3.1.0 in /usr/local/lib/python3.11/dist-packages (from scikit-learn) (3.6.0)\n",
            "Requirement already satisfied: python-dateutil>=2.8.2 in /usr/local/lib/python3.11/dist-packages (from pandas) (2.8.2)\n",
            "Requirement already satisfied: pytz>=2020.1 in /usr/local/lib/python3.11/dist-packages (from pandas) (2025.2)\n",
            "Requirement already satisfied: tzdata>=2022.7 in /usr/local/lib/python3.11/dist-packages (from pandas) (2025.2)\n",
            "Requirement already satisfied: six>=1.5 in /usr/local/lib/python3.11/dist-packages (from python-dateutil>=2.8.2->pandas) (1.17.0)\n"
          ]
        }
      ],
      "source": [
        "!pip install scikit-learn pandas numpy --no-cache-dir\n"
      ]
    },
    {
      "cell_type": "code",
      "source": [
        "import pandas as pd\n",
        "from sklearn.model_selection import train_test_split\n",
        "from sklearn.feature_extraction.text import CountVectorizer\n",
        "from sklearn.linear_model import LogisticRegression\n",
        "from sklearn.pipeline import Pipeline\n",
        "\n",
        "# Sample dataset (small, extend later)\n",
        "data = {\n",
        "    \"url\": [\n",
        "        \"http://192.168.0.1/login.php\",\n",
        "        \"http://paypal.account.verify-user.com/login\",\n",
        "        \"http://example.com\",\n",
        "        \"https://github.com/login\",\n",
        "        \"https://secure.bank-update.com\",\n",
        "        \"https://www.google.com\",\n",
        "        \"http://signin.verify.account.fakebank.com\",\n",
        "        \"https://stackoverflow.com/questions\",\n",
        "        \"http://login.account-checking.com\",\n",
        "        \"https://openai.com/blog\"\n",
        "    ],\n",
        "    \"label\": [1, 1, 0, 0, 1, 0, 1, 0, 1, 0]  # 1 = Phishing, 0 = Safe\n",
        "}\n",
        "\n",
        "df = pd.DataFrame(data)\n",
        "\n",
        "# Split data\n",
        "X_train, X_test, y_train, y_test = train_test_split(df[\"url\"], df[\"label\"], test_size=0.3, random_state=42)\n",
        "\n",
        "# Create pipeline: vectorizer + logistic regression\n",
        "model = Pipeline([\n",
        "    (\"vectorizer\", CountVectorizer()),\n",
        "    (\"classifier\", LogisticRegression())\n",
        "])\n",
        "\n",
        "# Train the model\n",
        "model.fit(X_train, y_train)\n",
        "\n",
        "# === Predict on a new URL ===\n",
        "def check_url_ai(url):\n",
        "    prediction = model.predict([url])[0]\n",
        "    return \"Phishing\" if prediction == 1 else \"Safe\"\n",
        "\n",
        "# Test it\n",
        "user_url = input(\"Enter a URL to check with AI: \")\n",
        "print(f\"\\nAI Model Prediction: {check_url_ai(user_url)}\")\n"
      ],
      "metadata": {
        "colab": {
          "base_uri": "https://localhost:8080/"
        },
        "id": "eIECGZuOThD8",
        "outputId": "0c91661a-01bb-4e35-9391-bbc17ef3c29c"
      },
      "execution_count": 11,
      "outputs": [
        {
          "output_type": "stream",
          "name": "stdout",
          "text": [
            "Enter a URL to check with AI: https://bankofamerica.com\n",
            "\n",
            "AI Model Prediction: Safe\n"
          ]
        }
      ]
    }
  ]
}